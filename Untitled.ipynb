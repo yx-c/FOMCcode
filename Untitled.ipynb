{
 "cells": [
  {
   "cell_type": "code",
   "execution_count": 1,
   "metadata": {},
   "outputs": [],
   "source": [
    "import requests"
   ]
  },
  {
   "cell_type": "code",
   "execution_count": 2,
   "metadata": {},
   "outputs": [],
   "source": [
    "import re"
   ]
  },
  {
   "cell_type": "code",
   "execution_count": 3,
   "metadata": {},
   "outputs": [],
   "source": [
    "years = [value for value in range(1936,1960)]"
   ]
  },
  {
   "cell_type": "code",
   "execution_count": 4,
   "metadata": {},
   "outputs": [
    {
     "name": "stdout",
     "output_type": "stream",
     "text": [
      "['https://www.federalreserve.gov/monetarypolicy/fomchistorical1936.htm']\n",
      "['https://www.federalreserve.gov/monetarypolicy/fomchistorical1936.htm', 'https://www.federalreserve.gov/monetarypolicy/fomchistorical1937.htm']\n",
      "['https://www.federalreserve.gov/monetarypolicy/fomchistorical1936.htm', 'https://www.federalreserve.gov/monetarypolicy/fomchistorical1937.htm', 'https://www.federalreserve.gov/monetarypolicy/fomchistorical1938.htm']\n",
      "['https://www.federalreserve.gov/monetarypolicy/fomchistorical1936.htm', 'https://www.federalreserve.gov/monetarypolicy/fomchistorical1937.htm', 'https://www.federalreserve.gov/monetarypolicy/fomchistorical1938.htm', 'https://www.federalreserve.gov/monetarypolicy/fomchistorical1939.htm']\n",
      "['https://www.federalreserve.gov/monetarypolicy/fomchistorical1936.htm', 'https://www.federalreserve.gov/monetarypolicy/fomchistorical1937.htm', 'https://www.federalreserve.gov/monetarypolicy/fomchistorical1938.htm', 'https://www.federalreserve.gov/monetarypolicy/fomchistorical1939.htm', 'https://www.federalreserve.gov/monetarypolicy/fomchistorical1940.htm']\n",
      "['https://www.federalreserve.gov/monetarypolicy/fomchistorical1936.htm', 'https://www.federalreserve.gov/monetarypolicy/fomchistorical1937.htm', 'https://www.federalreserve.gov/monetarypolicy/fomchistorical1938.htm', 'https://www.federalreserve.gov/monetarypolicy/fomchistorical1939.htm', 'https://www.federalreserve.gov/monetarypolicy/fomchistorical1940.htm', 'https://www.federalreserve.gov/monetarypolicy/fomchistorical1941.htm']\n",
      "['https://www.federalreserve.gov/monetarypolicy/fomchistorical1936.htm', 'https://www.federalreserve.gov/monetarypolicy/fomchistorical1937.htm', 'https://www.federalreserve.gov/monetarypolicy/fomchistorical1938.htm', 'https://www.federalreserve.gov/monetarypolicy/fomchistorical1939.htm', 'https://www.federalreserve.gov/monetarypolicy/fomchistorical1940.htm', 'https://www.federalreserve.gov/monetarypolicy/fomchistorical1941.htm', 'https://www.federalreserve.gov/monetarypolicy/fomchistorical1942.htm']\n",
      "['https://www.federalreserve.gov/monetarypolicy/fomchistorical1936.htm', 'https://www.federalreserve.gov/monetarypolicy/fomchistorical1937.htm', 'https://www.federalreserve.gov/monetarypolicy/fomchistorical1938.htm', 'https://www.federalreserve.gov/monetarypolicy/fomchistorical1939.htm', 'https://www.federalreserve.gov/monetarypolicy/fomchistorical1940.htm', 'https://www.federalreserve.gov/monetarypolicy/fomchistorical1941.htm', 'https://www.federalreserve.gov/monetarypolicy/fomchistorical1942.htm', 'https://www.federalreserve.gov/monetarypolicy/fomchistorical1943.htm']\n",
      "['https://www.federalreserve.gov/monetarypolicy/fomchistorical1936.htm', 'https://www.federalreserve.gov/monetarypolicy/fomchistorical1937.htm', 'https://www.federalreserve.gov/monetarypolicy/fomchistorical1938.htm', 'https://www.federalreserve.gov/monetarypolicy/fomchistorical1939.htm', 'https://www.federalreserve.gov/monetarypolicy/fomchistorical1940.htm', 'https://www.federalreserve.gov/monetarypolicy/fomchistorical1941.htm', 'https://www.federalreserve.gov/monetarypolicy/fomchistorical1942.htm', 'https://www.federalreserve.gov/monetarypolicy/fomchistorical1943.htm', 'https://www.federalreserve.gov/monetarypolicy/fomchistorical1944.htm']\n",
      "['https://www.federalreserve.gov/monetarypolicy/fomchistorical1936.htm', 'https://www.federalreserve.gov/monetarypolicy/fomchistorical1937.htm', 'https://www.federalreserve.gov/monetarypolicy/fomchistorical1938.htm', 'https://www.federalreserve.gov/monetarypolicy/fomchistorical1939.htm', 'https://www.federalreserve.gov/monetarypolicy/fomchistorical1940.htm', 'https://www.federalreserve.gov/monetarypolicy/fomchistorical1941.htm', 'https://www.federalreserve.gov/monetarypolicy/fomchistorical1942.htm', 'https://www.federalreserve.gov/monetarypolicy/fomchistorical1943.htm', 'https://www.federalreserve.gov/monetarypolicy/fomchistorical1944.htm', 'https://www.federalreserve.gov/monetarypolicy/fomchistorical1945.htm']\n",
      "['https://www.federalreserve.gov/monetarypolicy/fomchistorical1936.htm', 'https://www.federalreserve.gov/monetarypolicy/fomchistorical1937.htm', 'https://www.federalreserve.gov/monetarypolicy/fomchistorical1938.htm', 'https://www.federalreserve.gov/monetarypolicy/fomchistorical1939.htm', 'https://www.federalreserve.gov/monetarypolicy/fomchistorical1940.htm', 'https://www.federalreserve.gov/monetarypolicy/fomchistorical1941.htm', 'https://www.federalreserve.gov/monetarypolicy/fomchistorical1942.htm', 'https://www.federalreserve.gov/monetarypolicy/fomchistorical1943.htm', 'https://www.federalreserve.gov/monetarypolicy/fomchistorical1944.htm', 'https://www.federalreserve.gov/monetarypolicy/fomchistorical1945.htm', 'https://www.federalreserve.gov/monetarypolicy/fomchistorical1946.htm']\n",
      "['https://www.federalreserve.gov/monetarypolicy/fomchistorical1936.htm', 'https://www.federalreserve.gov/monetarypolicy/fomchistorical1937.htm', 'https://www.federalreserve.gov/monetarypolicy/fomchistorical1938.htm', 'https://www.federalreserve.gov/monetarypolicy/fomchistorical1939.htm', 'https://www.federalreserve.gov/monetarypolicy/fomchistorical1940.htm', 'https://www.federalreserve.gov/monetarypolicy/fomchistorical1941.htm', 'https://www.federalreserve.gov/monetarypolicy/fomchistorical1942.htm', 'https://www.federalreserve.gov/monetarypolicy/fomchistorical1943.htm', 'https://www.federalreserve.gov/monetarypolicy/fomchistorical1944.htm', 'https://www.federalreserve.gov/monetarypolicy/fomchistorical1945.htm', 'https://www.federalreserve.gov/monetarypolicy/fomchistorical1946.htm', 'https://www.federalreserve.gov/monetarypolicy/fomchistorical1947.htm']\n",
      "['https://www.federalreserve.gov/monetarypolicy/fomchistorical1936.htm', 'https://www.federalreserve.gov/monetarypolicy/fomchistorical1937.htm', 'https://www.federalreserve.gov/monetarypolicy/fomchistorical1938.htm', 'https://www.federalreserve.gov/monetarypolicy/fomchistorical1939.htm', 'https://www.federalreserve.gov/monetarypolicy/fomchistorical1940.htm', 'https://www.federalreserve.gov/monetarypolicy/fomchistorical1941.htm', 'https://www.federalreserve.gov/monetarypolicy/fomchistorical1942.htm', 'https://www.federalreserve.gov/monetarypolicy/fomchistorical1943.htm', 'https://www.federalreserve.gov/monetarypolicy/fomchistorical1944.htm', 'https://www.federalreserve.gov/monetarypolicy/fomchistorical1945.htm', 'https://www.federalreserve.gov/monetarypolicy/fomchistorical1946.htm', 'https://www.federalreserve.gov/monetarypolicy/fomchistorical1947.htm', 'https://www.federalreserve.gov/monetarypolicy/fomchistorical1948.htm']\n",
      "['https://www.federalreserve.gov/monetarypolicy/fomchistorical1936.htm', 'https://www.federalreserve.gov/monetarypolicy/fomchistorical1937.htm', 'https://www.federalreserve.gov/monetarypolicy/fomchistorical1938.htm', 'https://www.federalreserve.gov/monetarypolicy/fomchistorical1939.htm', 'https://www.federalreserve.gov/monetarypolicy/fomchistorical1940.htm', 'https://www.federalreserve.gov/monetarypolicy/fomchistorical1941.htm', 'https://www.federalreserve.gov/monetarypolicy/fomchistorical1942.htm', 'https://www.federalreserve.gov/monetarypolicy/fomchistorical1943.htm', 'https://www.federalreserve.gov/monetarypolicy/fomchistorical1944.htm', 'https://www.federalreserve.gov/monetarypolicy/fomchistorical1945.htm', 'https://www.federalreserve.gov/monetarypolicy/fomchistorical1946.htm', 'https://www.federalreserve.gov/monetarypolicy/fomchistorical1947.htm', 'https://www.federalreserve.gov/monetarypolicy/fomchistorical1948.htm', 'https://www.federalreserve.gov/monetarypolicy/fomchistorical1949.htm']\n",
      "['https://www.federalreserve.gov/monetarypolicy/fomchistorical1936.htm', 'https://www.federalreserve.gov/monetarypolicy/fomchistorical1937.htm', 'https://www.federalreserve.gov/monetarypolicy/fomchistorical1938.htm', 'https://www.federalreserve.gov/monetarypolicy/fomchistorical1939.htm', 'https://www.federalreserve.gov/monetarypolicy/fomchistorical1940.htm', 'https://www.federalreserve.gov/monetarypolicy/fomchistorical1941.htm', 'https://www.federalreserve.gov/monetarypolicy/fomchistorical1942.htm', 'https://www.federalreserve.gov/monetarypolicy/fomchistorical1943.htm', 'https://www.federalreserve.gov/monetarypolicy/fomchistorical1944.htm', 'https://www.federalreserve.gov/monetarypolicy/fomchistorical1945.htm', 'https://www.federalreserve.gov/monetarypolicy/fomchistorical1946.htm', 'https://www.federalreserve.gov/monetarypolicy/fomchistorical1947.htm', 'https://www.federalreserve.gov/monetarypolicy/fomchistorical1948.htm', 'https://www.federalreserve.gov/monetarypolicy/fomchistorical1949.htm', 'https://www.federalreserve.gov/monetarypolicy/fomchistorical1950.htm']\n",
      "['https://www.federalreserve.gov/monetarypolicy/fomchistorical1936.htm', 'https://www.federalreserve.gov/monetarypolicy/fomchistorical1937.htm', 'https://www.federalreserve.gov/monetarypolicy/fomchistorical1938.htm', 'https://www.federalreserve.gov/monetarypolicy/fomchistorical1939.htm', 'https://www.federalreserve.gov/monetarypolicy/fomchistorical1940.htm', 'https://www.federalreserve.gov/monetarypolicy/fomchistorical1941.htm', 'https://www.federalreserve.gov/monetarypolicy/fomchistorical1942.htm', 'https://www.federalreserve.gov/monetarypolicy/fomchistorical1943.htm', 'https://www.federalreserve.gov/monetarypolicy/fomchistorical1944.htm', 'https://www.federalreserve.gov/monetarypolicy/fomchistorical1945.htm', 'https://www.federalreserve.gov/monetarypolicy/fomchistorical1946.htm', 'https://www.federalreserve.gov/monetarypolicy/fomchistorical1947.htm', 'https://www.federalreserve.gov/monetarypolicy/fomchistorical1948.htm', 'https://www.federalreserve.gov/monetarypolicy/fomchistorical1949.htm', 'https://www.federalreserve.gov/monetarypolicy/fomchistorical1950.htm', 'https://www.federalreserve.gov/monetarypolicy/fomchistorical1951.htm']\n",
      "['https://www.federalreserve.gov/monetarypolicy/fomchistorical1936.htm', 'https://www.federalreserve.gov/monetarypolicy/fomchistorical1937.htm', 'https://www.federalreserve.gov/monetarypolicy/fomchistorical1938.htm', 'https://www.federalreserve.gov/monetarypolicy/fomchistorical1939.htm', 'https://www.federalreserve.gov/monetarypolicy/fomchistorical1940.htm', 'https://www.federalreserve.gov/monetarypolicy/fomchistorical1941.htm', 'https://www.federalreserve.gov/monetarypolicy/fomchistorical1942.htm', 'https://www.federalreserve.gov/monetarypolicy/fomchistorical1943.htm', 'https://www.federalreserve.gov/monetarypolicy/fomchistorical1944.htm', 'https://www.federalreserve.gov/monetarypolicy/fomchistorical1945.htm', 'https://www.federalreserve.gov/monetarypolicy/fomchistorical1946.htm', 'https://www.federalreserve.gov/monetarypolicy/fomchistorical1947.htm', 'https://www.federalreserve.gov/monetarypolicy/fomchistorical1948.htm', 'https://www.federalreserve.gov/monetarypolicy/fomchistorical1949.htm', 'https://www.federalreserve.gov/monetarypolicy/fomchistorical1950.htm', 'https://www.federalreserve.gov/monetarypolicy/fomchistorical1951.htm', 'https://www.federalreserve.gov/monetarypolicy/fomchistorical1952.htm']\n",
      "['https://www.federalreserve.gov/monetarypolicy/fomchistorical1936.htm', 'https://www.federalreserve.gov/monetarypolicy/fomchistorical1937.htm', 'https://www.federalreserve.gov/monetarypolicy/fomchistorical1938.htm', 'https://www.federalreserve.gov/monetarypolicy/fomchistorical1939.htm', 'https://www.federalreserve.gov/monetarypolicy/fomchistorical1940.htm', 'https://www.federalreserve.gov/monetarypolicy/fomchistorical1941.htm', 'https://www.federalreserve.gov/monetarypolicy/fomchistorical1942.htm', 'https://www.federalreserve.gov/monetarypolicy/fomchistorical1943.htm', 'https://www.federalreserve.gov/monetarypolicy/fomchistorical1944.htm', 'https://www.federalreserve.gov/monetarypolicy/fomchistorical1945.htm', 'https://www.federalreserve.gov/monetarypolicy/fomchistorical1946.htm', 'https://www.federalreserve.gov/monetarypolicy/fomchistorical1947.htm', 'https://www.federalreserve.gov/monetarypolicy/fomchistorical1948.htm', 'https://www.federalreserve.gov/monetarypolicy/fomchistorical1949.htm', 'https://www.federalreserve.gov/monetarypolicy/fomchistorical1950.htm', 'https://www.federalreserve.gov/monetarypolicy/fomchistorical1951.htm', 'https://www.federalreserve.gov/monetarypolicy/fomchistorical1952.htm', 'https://www.federalreserve.gov/monetarypolicy/fomchistorical1953.htm']\n",
      "['https://www.federalreserve.gov/monetarypolicy/fomchistorical1936.htm', 'https://www.federalreserve.gov/monetarypolicy/fomchistorical1937.htm', 'https://www.federalreserve.gov/monetarypolicy/fomchistorical1938.htm', 'https://www.federalreserve.gov/monetarypolicy/fomchistorical1939.htm', 'https://www.federalreserve.gov/monetarypolicy/fomchistorical1940.htm', 'https://www.federalreserve.gov/monetarypolicy/fomchistorical1941.htm', 'https://www.federalreserve.gov/monetarypolicy/fomchistorical1942.htm', 'https://www.federalreserve.gov/monetarypolicy/fomchistorical1943.htm', 'https://www.federalreserve.gov/monetarypolicy/fomchistorical1944.htm', 'https://www.federalreserve.gov/monetarypolicy/fomchistorical1945.htm', 'https://www.federalreserve.gov/monetarypolicy/fomchistorical1946.htm', 'https://www.federalreserve.gov/monetarypolicy/fomchistorical1947.htm', 'https://www.federalreserve.gov/monetarypolicy/fomchistorical1948.htm', 'https://www.federalreserve.gov/monetarypolicy/fomchistorical1949.htm', 'https://www.federalreserve.gov/monetarypolicy/fomchistorical1950.htm', 'https://www.federalreserve.gov/monetarypolicy/fomchistorical1951.htm', 'https://www.federalreserve.gov/monetarypolicy/fomchistorical1952.htm', 'https://www.federalreserve.gov/monetarypolicy/fomchistorical1953.htm', 'https://www.federalreserve.gov/monetarypolicy/fomchistorical1954.htm']\n",
      "['https://www.federalreserve.gov/monetarypolicy/fomchistorical1936.htm', 'https://www.federalreserve.gov/monetarypolicy/fomchistorical1937.htm', 'https://www.federalreserve.gov/monetarypolicy/fomchistorical1938.htm', 'https://www.federalreserve.gov/monetarypolicy/fomchistorical1939.htm', 'https://www.federalreserve.gov/monetarypolicy/fomchistorical1940.htm', 'https://www.federalreserve.gov/monetarypolicy/fomchistorical1941.htm', 'https://www.federalreserve.gov/monetarypolicy/fomchistorical1942.htm', 'https://www.federalreserve.gov/monetarypolicy/fomchistorical1943.htm', 'https://www.federalreserve.gov/monetarypolicy/fomchistorical1944.htm', 'https://www.federalreserve.gov/monetarypolicy/fomchistorical1945.htm', 'https://www.federalreserve.gov/monetarypolicy/fomchistorical1946.htm', 'https://www.federalreserve.gov/monetarypolicy/fomchistorical1947.htm', 'https://www.federalreserve.gov/monetarypolicy/fomchistorical1948.htm', 'https://www.federalreserve.gov/monetarypolicy/fomchistorical1949.htm', 'https://www.federalreserve.gov/monetarypolicy/fomchistorical1950.htm', 'https://www.federalreserve.gov/monetarypolicy/fomchistorical1951.htm', 'https://www.federalreserve.gov/monetarypolicy/fomchistorical1952.htm', 'https://www.federalreserve.gov/monetarypolicy/fomchistorical1953.htm', 'https://www.federalreserve.gov/monetarypolicy/fomchistorical1954.htm', 'https://www.federalreserve.gov/monetarypolicy/fomchistorical1955.htm']\n",
      "['https://www.federalreserve.gov/monetarypolicy/fomchistorical1936.htm', 'https://www.federalreserve.gov/monetarypolicy/fomchistorical1937.htm', 'https://www.federalreserve.gov/monetarypolicy/fomchistorical1938.htm', 'https://www.federalreserve.gov/monetarypolicy/fomchistorical1939.htm', 'https://www.federalreserve.gov/monetarypolicy/fomchistorical1940.htm', 'https://www.federalreserve.gov/monetarypolicy/fomchistorical1941.htm', 'https://www.federalreserve.gov/monetarypolicy/fomchistorical1942.htm', 'https://www.federalreserve.gov/monetarypolicy/fomchistorical1943.htm', 'https://www.federalreserve.gov/monetarypolicy/fomchistorical1944.htm', 'https://www.federalreserve.gov/monetarypolicy/fomchistorical1945.htm', 'https://www.federalreserve.gov/monetarypolicy/fomchistorical1946.htm', 'https://www.federalreserve.gov/monetarypolicy/fomchistorical1947.htm', 'https://www.federalreserve.gov/monetarypolicy/fomchistorical1948.htm', 'https://www.federalreserve.gov/monetarypolicy/fomchistorical1949.htm', 'https://www.federalreserve.gov/monetarypolicy/fomchistorical1950.htm', 'https://www.federalreserve.gov/monetarypolicy/fomchistorical1951.htm', 'https://www.federalreserve.gov/monetarypolicy/fomchistorical1952.htm', 'https://www.federalreserve.gov/monetarypolicy/fomchistorical1953.htm', 'https://www.federalreserve.gov/monetarypolicy/fomchistorical1954.htm', 'https://www.federalreserve.gov/monetarypolicy/fomchistorical1955.htm', 'https://www.federalreserve.gov/monetarypolicy/fomchistorical1956.htm']\n",
      "['https://www.federalreserve.gov/monetarypolicy/fomchistorical1936.htm', 'https://www.federalreserve.gov/monetarypolicy/fomchistorical1937.htm', 'https://www.federalreserve.gov/monetarypolicy/fomchistorical1938.htm', 'https://www.federalreserve.gov/monetarypolicy/fomchistorical1939.htm', 'https://www.federalreserve.gov/monetarypolicy/fomchistorical1940.htm', 'https://www.federalreserve.gov/monetarypolicy/fomchistorical1941.htm', 'https://www.federalreserve.gov/monetarypolicy/fomchistorical1942.htm', 'https://www.federalreserve.gov/monetarypolicy/fomchistorical1943.htm', 'https://www.federalreserve.gov/monetarypolicy/fomchistorical1944.htm', 'https://www.federalreserve.gov/monetarypolicy/fomchistorical1945.htm', 'https://www.federalreserve.gov/monetarypolicy/fomchistorical1946.htm', 'https://www.federalreserve.gov/monetarypolicy/fomchistorical1947.htm', 'https://www.federalreserve.gov/monetarypolicy/fomchistorical1948.htm', 'https://www.federalreserve.gov/monetarypolicy/fomchistorical1949.htm', 'https://www.federalreserve.gov/monetarypolicy/fomchistorical1950.htm', 'https://www.federalreserve.gov/monetarypolicy/fomchistorical1951.htm', 'https://www.federalreserve.gov/monetarypolicy/fomchistorical1952.htm', 'https://www.federalreserve.gov/monetarypolicy/fomchistorical1953.htm', 'https://www.federalreserve.gov/monetarypolicy/fomchistorical1954.htm', 'https://www.federalreserve.gov/monetarypolicy/fomchistorical1955.htm', 'https://www.federalreserve.gov/monetarypolicy/fomchistorical1956.htm', 'https://www.federalreserve.gov/monetarypolicy/fomchistorical1957.htm']\n",
      "['https://www.federalreserve.gov/monetarypolicy/fomchistorical1936.htm', 'https://www.federalreserve.gov/monetarypolicy/fomchistorical1937.htm', 'https://www.federalreserve.gov/monetarypolicy/fomchistorical1938.htm', 'https://www.federalreserve.gov/monetarypolicy/fomchistorical1939.htm', 'https://www.federalreserve.gov/monetarypolicy/fomchistorical1940.htm', 'https://www.federalreserve.gov/monetarypolicy/fomchistorical1941.htm', 'https://www.federalreserve.gov/monetarypolicy/fomchistorical1942.htm', 'https://www.federalreserve.gov/monetarypolicy/fomchistorical1943.htm', 'https://www.federalreserve.gov/monetarypolicy/fomchistorical1944.htm', 'https://www.federalreserve.gov/monetarypolicy/fomchistorical1945.htm', 'https://www.federalreserve.gov/monetarypolicy/fomchistorical1946.htm', 'https://www.federalreserve.gov/monetarypolicy/fomchistorical1947.htm', 'https://www.federalreserve.gov/monetarypolicy/fomchistorical1948.htm', 'https://www.federalreserve.gov/monetarypolicy/fomchistorical1949.htm', 'https://www.federalreserve.gov/monetarypolicy/fomchistorical1950.htm', 'https://www.federalreserve.gov/monetarypolicy/fomchistorical1951.htm', 'https://www.federalreserve.gov/monetarypolicy/fomchistorical1952.htm', 'https://www.federalreserve.gov/monetarypolicy/fomchistorical1953.htm', 'https://www.federalreserve.gov/monetarypolicy/fomchistorical1954.htm', 'https://www.federalreserve.gov/monetarypolicy/fomchistorical1955.htm', 'https://www.federalreserve.gov/monetarypolicy/fomchistorical1956.htm', 'https://www.federalreserve.gov/monetarypolicy/fomchistorical1957.htm', 'https://www.federalreserve.gov/monetarypolicy/fomchistorical1958.htm']\n",
      "['https://www.federalreserve.gov/monetarypolicy/fomchistorical1936.htm', 'https://www.federalreserve.gov/monetarypolicy/fomchistorical1937.htm', 'https://www.federalreserve.gov/monetarypolicy/fomchistorical1938.htm', 'https://www.federalreserve.gov/monetarypolicy/fomchistorical1939.htm', 'https://www.federalreserve.gov/monetarypolicy/fomchistorical1940.htm', 'https://www.federalreserve.gov/monetarypolicy/fomchistorical1941.htm', 'https://www.federalreserve.gov/monetarypolicy/fomchistorical1942.htm', 'https://www.federalreserve.gov/monetarypolicy/fomchistorical1943.htm', 'https://www.federalreserve.gov/monetarypolicy/fomchistorical1944.htm', 'https://www.federalreserve.gov/monetarypolicy/fomchistorical1945.htm', 'https://www.federalreserve.gov/monetarypolicy/fomchistorical1946.htm', 'https://www.federalreserve.gov/monetarypolicy/fomchistorical1947.htm', 'https://www.federalreserve.gov/monetarypolicy/fomchistorical1948.htm', 'https://www.federalreserve.gov/monetarypolicy/fomchistorical1949.htm', 'https://www.federalreserve.gov/monetarypolicy/fomchistorical1950.htm', 'https://www.federalreserve.gov/monetarypolicy/fomchistorical1951.htm', 'https://www.federalreserve.gov/monetarypolicy/fomchistorical1952.htm', 'https://www.federalreserve.gov/monetarypolicy/fomchistorical1953.htm', 'https://www.federalreserve.gov/monetarypolicy/fomchistorical1954.htm', 'https://www.federalreserve.gov/monetarypolicy/fomchistorical1955.htm', 'https://www.federalreserve.gov/monetarypolicy/fomchistorical1956.htm', 'https://www.federalreserve.gov/monetarypolicy/fomchistorical1957.htm', 'https://www.federalreserve.gov/monetarypolicy/fomchistorical1958.htm', 'https://www.federalreserve.gov/monetarypolicy/fomchistorical1959.htm']\n"
     ]
    }
   ],
   "source": [
    "urls = []\n",
    "for value in years: \n",
    "    urls.append(\"https://www.federalreserve.gov/monetarypolicy/fomchistorical\" + str(value) + \".htm\")\n",
    "    print(urls)"
   ]
  },
  {
   "cell_type": "markdown",
   "metadata": {},
   "source": [
    "page = requests.get(urls[0], verify=False)"
   ]
  },
  {
   "cell_type": "markdown",
   "metadata": {},
   "source": [
    "header = {'Application-Id': '19869a66c6',\n",
    "          'Content-Type': 'application/json'\n",
    "          }\n",
    "response = requests.get('http://127.0.0.1:1024/developer/api/v1.0/all/', headers=header)"
   ]
  },
  {
   "cell_type": "code",
   "execution_count": 11,
   "metadata": {},
   "outputs": [],
   "source": [
    "headers = {\n",
    "          'Accept':'text/html,application/xhtml+xml,application/xml;q=0.9,image/webp,*/*;q=0.8',\n",
    "          'Cache-Control':'max-age=0',\n",
    "          'Connection':'keep-alive',\n",
    "          'Cookie':'',\n",
    "          'Host':'www.federalreserve.gov',\n",
    "          'If-Modified-Since':'Fri, 22 Jun 2018 23:25:20 GMT',\n",
    "          'If-None-Match':'\"51d65c4980ad41:0\"',\n",
    "          'Referer':'https://www.federalreserve.gov/monetarypolicy/fomc_historical_year.htm',\n",
    "          'Upgrade-Insecure-Requests':'1',\n",
    "          'User-Agent':'Mozilla/5.0 (Windows NT 10.0; WOW64) AppleWebKit/537.36 (KHTML, like Gecko) Chrome/55.0.2883.87 Safari/537.36'\n",
    "          }"
   ]
  },
  {
   "cell_type": "code",
   "execution_count": 15,
   "metadata": {},
   "outputs": [],
   "source": [
    "response = requests.get('https://www.federalreserve.gov/monetarypolicy/fomchistorical1938.htm', headers=headers)"
   ]
  },
  {
   "cell_type": "code",
   "execution_count": 16,
   "metadata": {},
   "outputs": [
    {
     "ename": "TypeError",
     "evalue": "expected string or bytes-like object",
     "output_type": "error",
     "traceback": [
      "\u001b[1;31m---------------------------------------------------------------------------\u001b[0m",
      "\u001b[1;31mTypeError\u001b[0m                                 Traceback (most recent call last)",
      "\u001b[1;32m<ipython-input-16-b113793e4841>\u001b[0m in \u001b[0;36m<module>\u001b[1;34m()\u001b[0m\n\u001b[1;32m----> 1\u001b[1;33m \u001b[0mmeetings\u001b[0m \u001b[1;33m=\u001b[0m \u001b[0mre\u001b[0m\u001b[1;33m.\u001b[0m\u001b[0mfindall\u001b[0m\u001b[1;33m(\u001b[0m\u001b[1;34m'h5>(.*?)</h5>'\u001b[0m\u001b[1;33m,\u001b[0m \u001b[0mstring\u001b[0m\u001b[1;33m=\u001b[0m\u001b[0mresponse\u001b[0m\u001b[1;33m)\u001b[0m\u001b[1;33m\u001b[0m\u001b[0m\n\u001b[0m",
      "\u001b[1;32mD:\\Chang\\Anaconda3\\lib\\re.py\u001b[0m in \u001b[0;36mfindall\u001b[1;34m(pattern, string, flags)\u001b[0m\n\u001b[0;32m    220\u001b[0m \u001b[1;33m\u001b[0m\u001b[0m\n\u001b[0;32m    221\u001b[0m     Empty matches are included in the result.\"\"\"\n\u001b[1;32m--> 222\u001b[1;33m     \u001b[1;32mreturn\u001b[0m \u001b[0m_compile\u001b[0m\u001b[1;33m(\u001b[0m\u001b[0mpattern\u001b[0m\u001b[1;33m,\u001b[0m \u001b[0mflags\u001b[0m\u001b[1;33m)\u001b[0m\u001b[1;33m.\u001b[0m\u001b[0mfindall\u001b[0m\u001b[1;33m(\u001b[0m\u001b[0mstring\u001b[0m\u001b[1;33m)\u001b[0m\u001b[1;33m\u001b[0m\u001b[0m\n\u001b[0m\u001b[0;32m    223\u001b[0m \u001b[1;33m\u001b[0m\u001b[0m\n\u001b[0;32m    224\u001b[0m \u001b[1;32mdef\u001b[0m \u001b[0mfinditer\u001b[0m\u001b[1;33m(\u001b[0m\u001b[0mpattern\u001b[0m\u001b[1;33m,\u001b[0m \u001b[0mstring\u001b[0m\u001b[1;33m,\u001b[0m \u001b[0mflags\u001b[0m\u001b[1;33m=\u001b[0m\u001b[1;36m0\u001b[0m\u001b[1;33m)\u001b[0m\u001b[1;33m:\u001b[0m\u001b[1;33m\u001b[0m\u001b[0m\n",
      "\u001b[1;31mTypeError\u001b[0m: expected string or bytes-like object"
     ]
    }
   ],
   "source": [
    "meetings = re.findall('h5>(.*?)</h5>', string=response)"
   ]
  },
  {
   "cell_type": "code",
   "execution_count": 17,
   "metadata": {},
   "outputs": [],
   "source": [
    "pagestr = response.content.decode('utf-8')"
   ]
  },
  {
   "cell_type": "code",
   "execution_count": 18,
   "metadata": {},
   "outputs": [],
   "source": [
    "meetings = re.findall('h5>(.*?)</h5>', string=pagestr)"
   ]
  },
  {
   "cell_type": "code",
   "execution_count": 19,
   "metadata": {},
   "outputs": [
    {
     "name": "stdout",
     "output_type": "stream",
     "text": [
      "['February 28 - March 1 Meeting - 1938', 'April 21-22 Meeting - 1938', 'April 29 Meeting - 1938', 'August 2 Meeting - 1938', 'September 21 Meeting - 1938', 'December 30 Meeting - 1938']\n"
     ]
    }
   ],
   "source": [
    "print(meetings)"
   ]
  },
  {
   "cell_type": "code",
   "execution_count": null,
   "metadata": {},
   "outputs": [],
   "source": []
  }
 ],
 "metadata": {
  "kernelspec": {
   "display_name": "Python 3",
   "language": "python",
   "name": "python3"
  },
  "language_info": {
   "codemirror_mode": {
    "name": "ipython",
    "version": 3
   },
   "file_extension": ".py",
   "mimetype": "text/x-python",
   "name": "python",
   "nbconvert_exporter": "python",
   "pygments_lexer": "ipython3",
   "version": "3.6.4"
  }
 },
 "nbformat": 4,
 "nbformat_minor": 2
}
